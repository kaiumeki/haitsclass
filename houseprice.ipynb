{
 "cells": [
  {
   "cell_type": "code",
   "execution_count": 212,
   "metadata": {
    "collapsed": true
   },
   "outputs": [],
   "source": [
    "import pandas as pd\n",
    "import numpy as np\n",
    "import matplotlib.pyplot as plt\n",
    "import seaborn as sns\n",
    "from sklearn.model_selection import train_test_split\n",
    "from sklearn.linear_model import LinearRegression\n",
    "%matplotlib inline"
   ]
  },
  {
   "cell_type": "code",
   "execution_count": 249,
   "metadata": {
    "collapsed": true
   },
   "outputs": [],
   "source": [
    "df=pd.read_csv(\"/Users/kai/Desktop/haitsclass/houseprice/train.csv\",engine='python')"
   ]
  },
  {
   "cell_type": "code",
   "execution_count": 250,
   "metadata": {
    "collapsed": false
   },
   "outputs": [
    {
     "data": {
      "text/html": [
       "<div>\n",
       "<style scoped>\n",
       "    .dataframe tbody tr th:only-of-type {\n",
       "        vertical-align: middle;\n",
       "    }\n",
       "\n",
       "    .dataframe tbody tr th {\n",
       "        vertical-align: top;\n",
       "    }\n",
       "\n",
       "    .dataframe thead th {\n",
       "        text-align: right;\n",
       "    }\n",
       "</style>\n",
       "<table border=\"1\" class=\"dataframe\">\n",
       "  <thead>\n",
       "    <tr style=\"text-align: right;\">\n",
       "      <th></th>\n",
       "      <th>1stFlrSF</th>\n",
       "      <th>2ndFlrSF</th>\n",
       "      <th>3SsnPorch</th>\n",
       "      <th>BedroomAbvGr</th>\n",
       "      <th>BsmtFinSF1</th>\n",
       "      <th>BsmtFinSF2</th>\n",
       "      <th>BsmtFullBath</th>\n",
       "      <th>BsmtHalfBath</th>\n",
       "      <th>BsmtUnfSF</th>\n",
       "      <th>EnclosedPorch</th>\n",
       "      <th>...</th>\n",
       "      <th>SaleType_ConLI</th>\n",
       "      <th>SaleType_ConLw</th>\n",
       "      <th>SaleType_New</th>\n",
       "      <th>SaleType_Oth</th>\n",
       "      <th>SaleType_WD</th>\n",
       "      <th>Street_Grvl</th>\n",
       "      <th>Street_Pave</th>\n",
       "      <th>Utilities_AllPub</th>\n",
       "      <th>Utilities_NoSeWa</th>\n",
       "      <th>SalePrice</th>\n",
       "    </tr>\n",
       "  </thead>\n",
       "  <tbody>\n",
       "    <tr>\n",
       "      <th>0</th>\n",
       "      <td>856.0</td>\n",
       "      <td>854.0</td>\n",
       "      <td>0.0</td>\n",
       "      <td>3.0</td>\n",
       "      <td>706.0</td>\n",
       "      <td>0.0</td>\n",
       "      <td>1.0</td>\n",
       "      <td>0.0</td>\n",
       "      <td>150.0</td>\n",
       "      <td>0.0</td>\n",
       "      <td>...</td>\n",
       "      <td>0.0</td>\n",
       "      <td>0.0</td>\n",
       "      <td>0.0</td>\n",
       "      <td>0.0</td>\n",
       "      <td>1.0</td>\n",
       "      <td>0.0</td>\n",
       "      <td>1.0</td>\n",
       "      <td>1.0</td>\n",
       "      <td>0.0</td>\n",
       "      <td>208500</td>\n",
       "    </tr>\n",
       "    <tr>\n",
       "      <th>1</th>\n",
       "      <td>1262.0</td>\n",
       "      <td>0.0</td>\n",
       "      <td>0.0</td>\n",
       "      <td>3.0</td>\n",
       "      <td>978.0</td>\n",
       "      <td>0.0</td>\n",
       "      <td>0.0</td>\n",
       "      <td>1.0</td>\n",
       "      <td>284.0</td>\n",
       "      <td>0.0</td>\n",
       "      <td>...</td>\n",
       "      <td>0.0</td>\n",
       "      <td>0.0</td>\n",
       "      <td>0.0</td>\n",
       "      <td>0.0</td>\n",
       "      <td>1.0</td>\n",
       "      <td>0.0</td>\n",
       "      <td>1.0</td>\n",
       "      <td>1.0</td>\n",
       "      <td>0.0</td>\n",
       "      <td>181500</td>\n",
       "    </tr>\n",
       "    <tr>\n",
       "      <th>2</th>\n",
       "      <td>920.0</td>\n",
       "      <td>866.0</td>\n",
       "      <td>0.0</td>\n",
       "      <td>3.0</td>\n",
       "      <td>486.0</td>\n",
       "      <td>0.0</td>\n",
       "      <td>1.0</td>\n",
       "      <td>0.0</td>\n",
       "      <td>434.0</td>\n",
       "      <td>0.0</td>\n",
       "      <td>...</td>\n",
       "      <td>0.0</td>\n",
       "      <td>0.0</td>\n",
       "      <td>0.0</td>\n",
       "      <td>0.0</td>\n",
       "      <td>1.0</td>\n",
       "      <td>0.0</td>\n",
       "      <td>1.0</td>\n",
       "      <td>1.0</td>\n",
       "      <td>0.0</td>\n",
       "      <td>223500</td>\n",
       "    </tr>\n",
       "    <tr>\n",
       "      <th>3</th>\n",
       "      <td>961.0</td>\n",
       "      <td>756.0</td>\n",
       "      <td>0.0</td>\n",
       "      <td>3.0</td>\n",
       "      <td>216.0</td>\n",
       "      <td>0.0</td>\n",
       "      <td>1.0</td>\n",
       "      <td>0.0</td>\n",
       "      <td>540.0</td>\n",
       "      <td>272.0</td>\n",
       "      <td>...</td>\n",
       "      <td>0.0</td>\n",
       "      <td>0.0</td>\n",
       "      <td>0.0</td>\n",
       "      <td>0.0</td>\n",
       "      <td>1.0</td>\n",
       "      <td>0.0</td>\n",
       "      <td>1.0</td>\n",
       "      <td>1.0</td>\n",
       "      <td>0.0</td>\n",
       "      <td>140000</td>\n",
       "    </tr>\n",
       "    <tr>\n",
       "      <th>4</th>\n",
       "      <td>1145.0</td>\n",
       "      <td>1053.0</td>\n",
       "      <td>0.0</td>\n",
       "      <td>4.0</td>\n",
       "      <td>655.0</td>\n",
       "      <td>0.0</td>\n",
       "      <td>1.0</td>\n",
       "      <td>0.0</td>\n",
       "      <td>490.0</td>\n",
       "      <td>0.0</td>\n",
       "      <td>...</td>\n",
       "      <td>0.0</td>\n",
       "      <td>0.0</td>\n",
       "      <td>0.0</td>\n",
       "      <td>0.0</td>\n",
       "      <td>1.0</td>\n",
       "      <td>0.0</td>\n",
       "      <td>1.0</td>\n",
       "      <td>1.0</td>\n",
       "      <td>0.0</td>\n",
       "      <td>250000</td>\n",
       "    </tr>\n",
       "  </tbody>\n",
       "</table>\n",
       "<p>5 rows × 271 columns</p>\n",
       "</div>"
      ],
      "text/plain": [
       "   1stFlrSF  2ndFlrSF  3SsnPorch  BedroomAbvGr  BsmtFinSF1  BsmtFinSF2  \\\n",
       "0     856.0     854.0        0.0           3.0       706.0         0.0   \n",
       "1    1262.0       0.0        0.0           3.0       978.0         0.0   \n",
       "2     920.0     866.0        0.0           3.0       486.0         0.0   \n",
       "3     961.0     756.0        0.0           3.0       216.0         0.0   \n",
       "4    1145.0    1053.0        0.0           4.0       655.0         0.0   \n",
       "\n",
       "   BsmtFullBath  BsmtHalfBath  BsmtUnfSF  EnclosedPorch    ...      \\\n",
       "0           1.0           0.0      150.0            0.0    ...       \n",
       "1           0.0           1.0      284.0            0.0    ...       \n",
       "2           1.0           0.0      434.0            0.0    ...       \n",
       "3           1.0           0.0      540.0          272.0    ...       \n",
       "4           1.0           0.0      490.0            0.0    ...       \n",
       "\n",
       "   SaleType_ConLI  SaleType_ConLw  SaleType_New  SaleType_Oth  SaleType_WD  \\\n",
       "0             0.0             0.0           0.0           0.0          1.0   \n",
       "1             0.0             0.0           0.0           0.0          1.0   \n",
       "2             0.0             0.0           0.0           0.0          1.0   \n",
       "3             0.0             0.0           0.0           0.0          1.0   \n",
       "4             0.0             0.0           0.0           0.0          1.0   \n",
       "\n",
       "   Street_Grvl  Street_Pave  Utilities_AllPub  Utilities_NoSeWa  SalePrice  \n",
       "0          0.0          1.0               1.0               0.0     208500  \n",
       "1          0.0          1.0               1.0               0.0     181500  \n",
       "2          0.0          1.0               1.0               0.0     223500  \n",
       "3          0.0          1.0               1.0               0.0     140000  \n",
       "4          0.0          1.0               1.0               0.0     250000  \n",
       "\n",
       "[5 rows x 271 columns]"
      ]
     },
     "execution_count": 250,
     "metadata": {},
     "output_type": "execute_result"
    }
   ],
   "source": [
    "df.head()"
   ]
  },
  {
   "cell_type": "code",
   "execution_count": 252,
   "metadata": {
    "collapsed": false
   },
   "outputs": [
    {
     "data": {
      "text/plain": [
       "1460"
      ]
     },
     "execution_count": 252,
     "metadata": {},
     "output_type": "execute_result"
    }
   ],
   "source": [
    "len(df)"
   ]
  },
  {
   "cell_type": "code",
   "execution_count": 253,
   "metadata": {
    "collapsed": false
   },
   "outputs": [
    {
     "data": {
      "text/html": [
       "<div>\n",
       "<style scoped>\n",
       "    .dataframe tbody tr th:only-of-type {\n",
       "        vertical-align: middle;\n",
       "    }\n",
       "\n",
       "    .dataframe tbody tr th {\n",
       "        vertical-align: top;\n",
       "    }\n",
       "\n",
       "    .dataframe thead th {\n",
       "        text-align: right;\n",
       "    }\n",
       "</style>\n",
       "<table border=\"1\" class=\"dataframe\">\n",
       "  <thead>\n",
       "    <tr style=\"text-align: right;\">\n",
       "      <th></th>\n",
       "      <th>1stFlrSF</th>\n",
       "      <th>2ndFlrSF</th>\n",
       "      <th>3SsnPorch</th>\n",
       "      <th>BedroomAbvGr</th>\n",
       "      <th>BsmtFinSF1</th>\n",
       "      <th>BsmtFinSF2</th>\n",
       "      <th>BsmtFullBath</th>\n",
       "      <th>BsmtHalfBath</th>\n",
       "      <th>BsmtUnfSF</th>\n",
       "      <th>EnclosedPorch</th>\n",
       "      <th>...</th>\n",
       "      <th>SaleType_ConLI</th>\n",
       "      <th>SaleType_ConLw</th>\n",
       "      <th>SaleType_New</th>\n",
       "      <th>SaleType_Oth</th>\n",
       "      <th>SaleType_WD</th>\n",
       "      <th>Street_Grvl</th>\n",
       "      <th>Street_Pave</th>\n",
       "      <th>Utilities_AllPub</th>\n",
       "      <th>Utilities_NoSeWa</th>\n",
       "      <th>SalePrice</th>\n",
       "    </tr>\n",
       "  </thead>\n",
       "  <tbody>\n",
       "    <tr>\n",
       "      <th>0</th>\n",
       "      <td>856.0</td>\n",
       "      <td>854.0</td>\n",
       "      <td>0.0</td>\n",
       "      <td>3.0</td>\n",
       "      <td>706.0</td>\n",
       "      <td>0.0</td>\n",
       "      <td>1.0</td>\n",
       "      <td>0.0</td>\n",
       "      <td>150.0</td>\n",
       "      <td>0.0</td>\n",
       "      <td>...</td>\n",
       "      <td>0.0</td>\n",
       "      <td>0.0</td>\n",
       "      <td>0.0</td>\n",
       "      <td>0.0</td>\n",
       "      <td>1.0</td>\n",
       "      <td>0.0</td>\n",
       "      <td>1.0</td>\n",
       "      <td>1.0</td>\n",
       "      <td>0.0</td>\n",
       "      <td>208500</td>\n",
       "    </tr>\n",
       "    <tr>\n",
       "      <th>1</th>\n",
       "      <td>1262.0</td>\n",
       "      <td>0.0</td>\n",
       "      <td>0.0</td>\n",
       "      <td>3.0</td>\n",
       "      <td>978.0</td>\n",
       "      <td>0.0</td>\n",
       "      <td>0.0</td>\n",
       "      <td>1.0</td>\n",
       "      <td>284.0</td>\n",
       "      <td>0.0</td>\n",
       "      <td>...</td>\n",
       "      <td>0.0</td>\n",
       "      <td>0.0</td>\n",
       "      <td>0.0</td>\n",
       "      <td>0.0</td>\n",
       "      <td>1.0</td>\n",
       "      <td>0.0</td>\n",
       "      <td>1.0</td>\n",
       "      <td>1.0</td>\n",
       "      <td>0.0</td>\n",
       "      <td>181500</td>\n",
       "    </tr>\n",
       "    <tr>\n",
       "      <th>2</th>\n",
       "      <td>920.0</td>\n",
       "      <td>866.0</td>\n",
       "      <td>0.0</td>\n",
       "      <td>3.0</td>\n",
       "      <td>486.0</td>\n",
       "      <td>0.0</td>\n",
       "      <td>1.0</td>\n",
       "      <td>0.0</td>\n",
       "      <td>434.0</td>\n",
       "      <td>0.0</td>\n",
       "      <td>...</td>\n",
       "      <td>0.0</td>\n",
       "      <td>0.0</td>\n",
       "      <td>0.0</td>\n",
       "      <td>0.0</td>\n",
       "      <td>1.0</td>\n",
       "      <td>0.0</td>\n",
       "      <td>1.0</td>\n",
       "      <td>1.0</td>\n",
       "      <td>0.0</td>\n",
       "      <td>223500</td>\n",
       "    </tr>\n",
       "    <tr>\n",
       "      <th>3</th>\n",
       "      <td>961.0</td>\n",
       "      <td>756.0</td>\n",
       "      <td>0.0</td>\n",
       "      <td>3.0</td>\n",
       "      <td>216.0</td>\n",
       "      <td>0.0</td>\n",
       "      <td>1.0</td>\n",
       "      <td>0.0</td>\n",
       "      <td>540.0</td>\n",
       "      <td>272.0</td>\n",
       "      <td>...</td>\n",
       "      <td>0.0</td>\n",
       "      <td>0.0</td>\n",
       "      <td>0.0</td>\n",
       "      <td>0.0</td>\n",
       "      <td>1.0</td>\n",
       "      <td>0.0</td>\n",
       "      <td>1.0</td>\n",
       "      <td>1.0</td>\n",
       "      <td>0.0</td>\n",
       "      <td>140000</td>\n",
       "    </tr>\n",
       "    <tr>\n",
       "      <th>4</th>\n",
       "      <td>1145.0</td>\n",
       "      <td>1053.0</td>\n",
       "      <td>0.0</td>\n",
       "      <td>4.0</td>\n",
       "      <td>655.0</td>\n",
       "      <td>0.0</td>\n",
       "      <td>1.0</td>\n",
       "      <td>0.0</td>\n",
       "      <td>490.0</td>\n",
       "      <td>0.0</td>\n",
       "      <td>...</td>\n",
       "      <td>0.0</td>\n",
       "      <td>0.0</td>\n",
       "      <td>0.0</td>\n",
       "      <td>0.0</td>\n",
       "      <td>1.0</td>\n",
       "      <td>0.0</td>\n",
       "      <td>1.0</td>\n",
       "      <td>1.0</td>\n",
       "      <td>0.0</td>\n",
       "      <td>250000</td>\n",
       "    </tr>\n",
       "  </tbody>\n",
       "</table>\n",
       "<p>5 rows × 271 columns</p>\n",
       "</div>"
      ],
      "text/plain": [
       "   1stFlrSF  2ndFlrSF  3SsnPorch  BedroomAbvGr  BsmtFinSF1  BsmtFinSF2  \\\n",
       "0     856.0     854.0        0.0           3.0       706.0         0.0   \n",
       "1    1262.0       0.0        0.0           3.0       978.0         0.0   \n",
       "2     920.0     866.0        0.0           3.0       486.0         0.0   \n",
       "3     961.0     756.0        0.0           3.0       216.0         0.0   \n",
       "4    1145.0    1053.0        0.0           4.0       655.0         0.0   \n",
       "\n",
       "   BsmtFullBath  BsmtHalfBath  BsmtUnfSF  EnclosedPorch    ...      \\\n",
       "0           1.0           0.0      150.0            0.0    ...       \n",
       "1           0.0           1.0      284.0            0.0    ...       \n",
       "2           1.0           0.0      434.0            0.0    ...       \n",
       "3           1.0           0.0      540.0          272.0    ...       \n",
       "4           1.0           0.0      490.0            0.0    ...       \n",
       "\n",
       "   SaleType_ConLI  SaleType_ConLw  SaleType_New  SaleType_Oth  SaleType_WD  \\\n",
       "0             0.0             0.0           0.0           0.0          1.0   \n",
       "1             0.0             0.0           0.0           0.0          1.0   \n",
       "2             0.0             0.0           0.0           0.0          1.0   \n",
       "3             0.0             0.0           0.0           0.0          1.0   \n",
       "4             0.0             0.0           0.0           0.0          1.0   \n",
       "\n",
       "   Street_Grvl  Street_Pave  Utilities_AllPub  Utilities_NoSeWa  SalePrice  \n",
       "0          0.0          1.0               1.0               0.0     208500  \n",
       "1          0.0          1.0               1.0               0.0     181500  \n",
       "2          0.0          1.0               1.0               0.0     223500  \n",
       "3          0.0          1.0               1.0               0.0     140000  \n",
       "4          0.0          1.0               1.0               0.0     250000  \n",
       "\n",
       "[5 rows x 271 columns]"
      ]
     },
     "execution_count": 253,
     "metadata": {},
     "output_type": "execute_result"
    }
   ],
   "source": [
    "df.head()"
   ]
  },
  {
   "cell_type": "code",
   "execution_count": 254,
   "metadata": {
    "collapsed": false
   },
   "outputs": [
    {
     "data": {
      "text/html": [
       "<div>\n",
       "<style scoped>\n",
       "    .dataframe tbody tr th:only-of-type {\n",
       "        vertical-align: middle;\n",
       "    }\n",
       "\n",
       "    .dataframe tbody tr th {\n",
       "        vertical-align: top;\n",
       "    }\n",
       "\n",
       "    .dataframe thead th {\n",
       "        text-align: right;\n",
       "    }\n",
       "</style>\n",
       "<table border=\"1\" class=\"dataframe\">\n",
       "  <thead>\n",
       "    <tr style=\"text-align: right;\">\n",
       "      <th></th>\n",
       "      <th>1stFlrSF</th>\n",
       "      <th>2ndFlrSF</th>\n",
       "      <th>3SsnPorch</th>\n",
       "      <th>BedroomAbvGr</th>\n",
       "      <th>BsmtFinSF1</th>\n",
       "      <th>BsmtFinSF2</th>\n",
       "      <th>BsmtFullBath</th>\n",
       "      <th>BsmtHalfBath</th>\n",
       "      <th>BsmtUnfSF</th>\n",
       "      <th>EnclosedPorch</th>\n",
       "      <th>...</th>\n",
       "      <th>SaleType_ConLI</th>\n",
       "      <th>SaleType_ConLw</th>\n",
       "      <th>SaleType_New</th>\n",
       "      <th>SaleType_Oth</th>\n",
       "      <th>SaleType_WD</th>\n",
       "      <th>Street_Grvl</th>\n",
       "      <th>Street_Pave</th>\n",
       "      <th>Utilities_AllPub</th>\n",
       "      <th>Utilities_NoSeWa</th>\n",
       "      <th>SalePrice</th>\n",
       "    </tr>\n",
       "  </thead>\n",
       "  <tbody>\n",
       "    <tr>\n",
       "      <th>1stFlrSF</th>\n",
       "      <td>1.000000</td>\n",
       "      <td>-0.202646</td>\n",
       "      <td>0.056104</td>\n",
       "      <td>0.127401</td>\n",
       "      <td>0.445863</td>\n",
       "      <td>0.097117</td>\n",
       "      <td>0.244671</td>\n",
       "      <td>0.001956</td>\n",
       "      <td>0.317987</td>\n",
       "      <td>-0.065292</td>\n",
       "      <td>...</td>\n",
       "      <td>0.006094</td>\n",
       "      <td>-0.043721</td>\n",
       "      <td>0.221219</td>\n",
       "      <td>-0.008215</td>\n",
       "      <td>-0.198056</td>\n",
       "      <td>-0.005950</td>\n",
       "      <td>0.005950</td>\n",
       "      <td>-0.012287</td>\n",
       "      <td>0.012287</td>\n",
       "      <td>0.605852</td>\n",
       "    </tr>\n",
       "    <tr>\n",
       "      <th>2ndFlrSF</th>\n",
       "      <td>-0.202646</td>\n",
       "      <td>1.000000</td>\n",
       "      <td>-0.024358</td>\n",
       "      <td>0.502901</td>\n",
       "      <td>-0.137079</td>\n",
       "      <td>-0.099260</td>\n",
       "      <td>-0.169494</td>\n",
       "      <td>-0.023855</td>\n",
       "      <td>0.004469</td>\n",
       "      <td>0.061989</td>\n",
       "      <td>...</td>\n",
       "      <td>0.016175</td>\n",
       "      <td>0.012602</td>\n",
       "      <td>0.010810</td>\n",
       "      <td>-0.036082</td>\n",
       "      <td>0.026769</td>\n",
       "      <td>-0.046983</td>\n",
       "      <td>0.046983</td>\n",
       "      <td>0.020818</td>\n",
       "      <td>-0.020818</td>\n",
       "      <td>0.319334</td>\n",
       "    </tr>\n",
       "    <tr>\n",
       "      <th>3SsnPorch</th>\n",
       "      <td>0.056104</td>\n",
       "      <td>-0.024358</td>\n",
       "      <td>1.000000</td>\n",
       "      <td>-0.024478</td>\n",
       "      <td>0.026451</td>\n",
       "      <td>-0.029993</td>\n",
       "      <td>-0.000106</td>\n",
       "      <td>0.035114</td>\n",
       "      <td>0.020764</td>\n",
       "      <td>-0.037305</td>\n",
       "      <td>...</td>\n",
       "      <td>-0.006820</td>\n",
       "      <td>-0.006820</td>\n",
       "      <td>0.019596</td>\n",
       "      <td>-0.005279</td>\n",
       "      <td>-0.014211</td>\n",
       "      <td>-0.007473</td>\n",
       "      <td>0.007473</td>\n",
       "      <td>0.003046</td>\n",
       "      <td>-0.003046</td>\n",
       "      <td>0.044584</td>\n",
       "    </tr>\n",
       "    <tr>\n",
       "      <th>BedroomAbvGr</th>\n",
       "      <td>0.127401</td>\n",
       "      <td>0.502901</td>\n",
       "      <td>-0.024478</td>\n",
       "      <td>1.000000</td>\n",
       "      <td>-0.107355</td>\n",
       "      <td>-0.015728</td>\n",
       "      <td>-0.150673</td>\n",
       "      <td>0.046519</td>\n",
       "      <td>0.166643</td>\n",
       "      <td>0.041570</td>\n",
       "      <td>...</td>\n",
       "      <td>0.067108</td>\n",
       "      <td>-0.033529</td>\n",
       "      <td>-0.050702</td>\n",
       "      <td>0.025979</td>\n",
       "      <td>0.047667</td>\n",
       "      <td>-0.028865</td>\n",
       "      <td>0.028865</td>\n",
       "      <td>-0.004288</td>\n",
       "      <td>0.004288</td>\n",
       "      <td>0.168213</td>\n",
       "    </tr>\n",
       "    <tr>\n",
       "      <th>BsmtFinSF1</th>\n",
       "      <td>0.445863</td>\n",
       "      <td>-0.137079</td>\n",
       "      <td>0.026451</td>\n",
       "      <td>-0.107355</td>\n",
       "      <td>1.000000</td>\n",
       "      <td>-0.050117</td>\n",
       "      <td>0.649212</td>\n",
       "      <td>0.067418</td>\n",
       "      <td>-0.495251</td>\n",
       "      <td>-0.102303</td>\n",
       "      <td>...</td>\n",
       "      <td>0.022726</td>\n",
       "      <td>-0.017825</td>\n",
       "      <td>0.044883</td>\n",
       "      <td>0.010652</td>\n",
       "      <td>-0.024778</td>\n",
       "      <td>0.015643</td>\n",
       "      <td>-0.015643</td>\n",
       "      <td>0.019100</td>\n",
       "      <td>-0.019100</td>\n",
       "      <td>0.386420</td>\n",
       "    </tr>\n",
       "  </tbody>\n",
       "</table>\n",
       "<p>5 rows × 271 columns</p>\n",
       "</div>"
      ],
      "text/plain": [
       "              1stFlrSF  2ndFlrSF  3SsnPorch  BedroomAbvGr  BsmtFinSF1  \\\n",
       "1stFlrSF      1.000000 -0.202646   0.056104      0.127401    0.445863   \n",
       "2ndFlrSF     -0.202646  1.000000  -0.024358      0.502901   -0.137079   \n",
       "3SsnPorch     0.056104 -0.024358   1.000000     -0.024478    0.026451   \n",
       "BedroomAbvGr  0.127401  0.502901  -0.024478      1.000000   -0.107355   \n",
       "BsmtFinSF1    0.445863 -0.137079   0.026451     -0.107355    1.000000   \n",
       "\n",
       "              BsmtFinSF2  BsmtFullBath  BsmtHalfBath  BsmtUnfSF  \\\n",
       "1stFlrSF        0.097117      0.244671      0.001956   0.317987   \n",
       "2ndFlrSF       -0.099260     -0.169494     -0.023855   0.004469   \n",
       "3SsnPorch      -0.029993     -0.000106      0.035114   0.020764   \n",
       "BedroomAbvGr   -0.015728     -0.150673      0.046519   0.166643   \n",
       "BsmtFinSF1     -0.050117      0.649212      0.067418  -0.495251   \n",
       "\n",
       "              EnclosedPorch    ...      SaleType_ConLI  SaleType_ConLw  \\\n",
       "1stFlrSF          -0.065292    ...            0.006094       -0.043721   \n",
       "2ndFlrSF           0.061989    ...            0.016175        0.012602   \n",
       "3SsnPorch         -0.037305    ...           -0.006820       -0.006820   \n",
       "BedroomAbvGr       0.041570    ...            0.067108       -0.033529   \n",
       "BsmtFinSF1        -0.102303    ...            0.022726       -0.017825   \n",
       "\n",
       "              SaleType_New  SaleType_Oth  SaleType_WD  Street_Grvl  \\\n",
       "1stFlrSF          0.221219     -0.008215    -0.198056    -0.005950   \n",
       "2ndFlrSF          0.010810     -0.036082     0.026769    -0.046983   \n",
       "3SsnPorch         0.019596     -0.005279    -0.014211    -0.007473   \n",
       "BedroomAbvGr     -0.050702      0.025979     0.047667    -0.028865   \n",
       "BsmtFinSF1        0.044883      0.010652    -0.024778     0.015643   \n",
       "\n",
       "              Street_Pave  Utilities_AllPub  Utilities_NoSeWa  SalePrice  \n",
       "1stFlrSF         0.005950         -0.012287          0.012287   0.605852  \n",
       "2ndFlrSF         0.046983          0.020818         -0.020818   0.319334  \n",
       "3SsnPorch        0.007473          0.003046         -0.003046   0.044584  \n",
       "BedroomAbvGr     0.028865         -0.004288          0.004288   0.168213  \n",
       "BsmtFinSF1      -0.015643          0.019100         -0.019100   0.386420  \n",
       "\n",
       "[5 rows x 271 columns]"
      ]
     },
     "execution_count": 254,
     "metadata": {},
     "output_type": "execute_result"
    }
   ],
   "source": [
    "df.corr().head()"
   ]
  },
  {
   "cell_type": "code",
   "execution_count": 255,
   "metadata": {
    "collapsed": true
   },
   "outputs": [],
   "source": [
    "a = df.corr()"
   ]
  },
  {
   "cell_type": "code",
   "execution_count": 256,
   "metadata": {
    "collapsed": false,
    "scrolled": true
   },
   "outputs": [
    {
     "data": {
      "text/html": [
       "<div>\n",
       "<style scoped>\n",
       "    .dataframe tbody tr th:only-of-type {\n",
       "        vertical-align: middle;\n",
       "    }\n",
       "\n",
       "    .dataframe tbody tr th {\n",
       "        vertical-align: top;\n",
       "    }\n",
       "\n",
       "    .dataframe thead th {\n",
       "        text-align: right;\n",
       "    }\n",
       "</style>\n",
       "<table border=\"1\" class=\"dataframe\">\n",
       "  <thead>\n",
       "    <tr style=\"text-align: right;\">\n",
       "      <th></th>\n",
       "      <th>1stFlrSF</th>\n",
       "      <th>2ndFlrSF</th>\n",
       "      <th>3SsnPorch</th>\n",
       "      <th>BedroomAbvGr</th>\n",
       "      <th>BsmtFinSF1</th>\n",
       "      <th>BsmtFinSF2</th>\n",
       "      <th>BsmtFullBath</th>\n",
       "      <th>BsmtHalfBath</th>\n",
       "      <th>BsmtUnfSF</th>\n",
       "      <th>EnclosedPorch</th>\n",
       "      <th>...</th>\n",
       "      <th>SaleType_ConLI</th>\n",
       "      <th>SaleType_ConLw</th>\n",
       "      <th>SaleType_New</th>\n",
       "      <th>SaleType_Oth</th>\n",
       "      <th>SaleType_WD</th>\n",
       "      <th>Street_Grvl</th>\n",
       "      <th>Street_Pave</th>\n",
       "      <th>Utilities_AllPub</th>\n",
       "      <th>Utilities_NoSeWa</th>\n",
       "      <th>SalePrice</th>\n",
       "    </tr>\n",
       "  </thead>\n",
       "  <tbody>\n",
       "    <tr>\n",
       "      <th>1stFlrSF</th>\n",
       "      <td>1.000000</td>\n",
       "      <td>-0.202646</td>\n",
       "      <td>0.056104</td>\n",
       "      <td>0.127401</td>\n",
       "      <td>0.445863</td>\n",
       "      <td>0.097117</td>\n",
       "      <td>0.244671</td>\n",
       "      <td>0.001956</td>\n",
       "      <td>0.317987</td>\n",
       "      <td>-0.065292</td>\n",
       "      <td>...</td>\n",
       "      <td>0.006094</td>\n",
       "      <td>-0.043721</td>\n",
       "      <td>0.221219</td>\n",
       "      <td>-0.008215</td>\n",
       "      <td>-0.198056</td>\n",
       "      <td>-0.005950</td>\n",
       "      <td>0.005950</td>\n",
       "      <td>-0.012287</td>\n",
       "      <td>0.012287</td>\n",
       "      <td>0.605852</td>\n",
       "    </tr>\n",
       "    <tr>\n",
       "      <th>GarageArea</th>\n",
       "      <td>0.489782</td>\n",
       "      <td>0.138347</td>\n",
       "      <td>0.035087</td>\n",
       "      <td>0.065253</td>\n",
       "      <td>0.296970</td>\n",
       "      <td>-0.018227</td>\n",
       "      <td>0.179189</td>\n",
       "      <td>-0.024536</td>\n",
       "      <td>0.183303</td>\n",
       "      <td>-0.121777</td>\n",
       "      <td>...</td>\n",
       "      <td>-0.005535</td>\n",
       "      <td>-0.041904</td>\n",
       "      <td>0.296671</td>\n",
       "      <td>-0.080601</td>\n",
       "      <td>-0.218665</td>\n",
       "      <td>0.047794</td>\n",
       "      <td>-0.047794</td>\n",
       "      <td>-0.006372</td>\n",
       "      <td>0.006372</td>\n",
       "      <td>0.623431</td>\n",
       "    </tr>\n",
       "    <tr>\n",
       "      <th>GarageCars</th>\n",
       "      <td>0.439317</td>\n",
       "      <td>0.183926</td>\n",
       "      <td>0.035765</td>\n",
       "      <td>0.086106</td>\n",
       "      <td>0.224054</td>\n",
       "      <td>-0.038264</td>\n",
       "      <td>0.131881</td>\n",
       "      <td>-0.020891</td>\n",
       "      <td>0.214175</td>\n",
       "      <td>-0.151434</td>\n",
       "      <td>...</td>\n",
       "      <td>0.002580</td>\n",
       "      <td>-0.044502</td>\n",
       "      <td>0.286290</td>\n",
       "      <td>-0.087089</td>\n",
       "      <td>-0.197458</td>\n",
       "      <td>0.020025</td>\n",
       "      <td>-0.020025</td>\n",
       "      <td>-0.008161</td>\n",
       "      <td>0.008161</td>\n",
       "      <td>0.640409</td>\n",
       "    </tr>\n",
       "    <tr>\n",
       "      <th>GrLivArea</th>\n",
       "      <td>0.566024</td>\n",
       "      <td>0.687501</td>\n",
       "      <td>0.020643</td>\n",
       "      <td>0.521270</td>\n",
       "      <td>0.208171</td>\n",
       "      <td>-0.009640</td>\n",
       "      <td>0.034836</td>\n",
       "      <td>-0.018918</td>\n",
       "      <td>0.240257</td>\n",
       "      <td>0.009113</td>\n",
       "      <td>...</td>\n",
       "      <td>0.017268</td>\n",
       "      <td>-0.022348</td>\n",
       "      <td>0.168368</td>\n",
       "      <td>-0.036522</td>\n",
       "      <td>-0.121102</td>\n",
       "      <td>-0.044121</td>\n",
       "      <td>0.044121</td>\n",
       "      <td>0.008545</td>\n",
       "      <td>-0.008545</td>\n",
       "      <td>0.708624</td>\n",
       "    </tr>\n",
       "    <tr>\n",
       "      <th>OverallQual</th>\n",
       "      <td>0.476224</td>\n",
       "      <td>0.295493</td>\n",
       "      <td>0.030371</td>\n",
       "      <td>0.101676</td>\n",
       "      <td>0.239666</td>\n",
       "      <td>-0.059119</td>\n",
       "      <td>0.111098</td>\n",
       "      <td>-0.040150</td>\n",
       "      <td>0.308159</td>\n",
       "      <td>-0.113937</td>\n",
       "      <td>...</td>\n",
       "      <td>0.004269</td>\n",
       "      <td>-0.021172</td>\n",
       "      <td>0.327412</td>\n",
       "      <td>-0.057962</td>\n",
       "      <td>-0.225013</td>\n",
       "      <td>-0.058823</td>\n",
       "      <td>0.058823</td>\n",
       "      <td>0.001881</td>\n",
       "      <td>-0.001881</td>\n",
       "      <td>0.790982</td>\n",
       "    </tr>\n",
       "    <tr>\n",
       "      <th>TotalBsmtSF</th>\n",
       "      <td>0.819530</td>\n",
       "      <td>-0.174512</td>\n",
       "      <td>0.037384</td>\n",
       "      <td>0.050450</td>\n",
       "      <td>0.522396</td>\n",
       "      <td>0.104810</td>\n",
       "      <td>0.307351</td>\n",
       "      <td>-0.000315</td>\n",
       "      <td>0.415360</td>\n",
       "      <td>-0.095478</td>\n",
       "      <td>...</td>\n",
       "      <td>0.019271</td>\n",
       "      <td>-0.039543</td>\n",
       "      <td>0.265644</td>\n",
       "      <td>0.003646</td>\n",
       "      <td>-0.212851</td>\n",
       "      <td>-0.005068</td>\n",
       "      <td>0.005068</td>\n",
       "      <td>0.014233</td>\n",
       "      <td>-0.014233</td>\n",
       "      <td>0.613581</td>\n",
       "    </tr>\n",
       "    <tr>\n",
       "      <th>SalePrice</th>\n",
       "      <td>0.605852</td>\n",
       "      <td>0.319334</td>\n",
       "      <td>0.044584</td>\n",
       "      <td>0.168213</td>\n",
       "      <td>0.386420</td>\n",
       "      <td>-0.011378</td>\n",
       "      <td>0.227122</td>\n",
       "      <td>-0.016844</td>\n",
       "      <td>0.214479</td>\n",
       "      <td>-0.128578</td>\n",
       "      <td>...</td>\n",
       "      <td>0.014371</td>\n",
       "      <td>-0.027475</td>\n",
       "      <td>0.357509</td>\n",
       "      <td>-0.034895</td>\n",
       "      <td>-0.242598</td>\n",
       "      <td>-0.041036</td>\n",
       "      <td>0.041036</td>\n",
       "      <td>0.014314</td>\n",
       "      <td>-0.014314</td>\n",
       "      <td>1.000000</td>\n",
       "    </tr>\n",
       "  </tbody>\n",
       "</table>\n",
       "<p>7 rows × 271 columns</p>\n",
       "</div>"
      ],
      "text/plain": [
       "             1stFlrSF  2ndFlrSF  3SsnPorch  BedroomAbvGr  BsmtFinSF1  \\\n",
       "1stFlrSF     1.000000 -0.202646   0.056104      0.127401    0.445863   \n",
       "GarageArea   0.489782  0.138347   0.035087      0.065253    0.296970   \n",
       "GarageCars   0.439317  0.183926   0.035765      0.086106    0.224054   \n",
       "GrLivArea    0.566024  0.687501   0.020643      0.521270    0.208171   \n",
       "OverallQual  0.476224  0.295493   0.030371      0.101676    0.239666   \n",
       "TotalBsmtSF  0.819530 -0.174512   0.037384      0.050450    0.522396   \n",
       "SalePrice    0.605852  0.319334   0.044584      0.168213    0.386420   \n",
       "\n",
       "             BsmtFinSF2  BsmtFullBath  BsmtHalfBath  BsmtUnfSF  EnclosedPorch  \\\n",
       "1stFlrSF       0.097117      0.244671      0.001956   0.317987      -0.065292   \n",
       "GarageArea    -0.018227      0.179189     -0.024536   0.183303      -0.121777   \n",
       "GarageCars    -0.038264      0.131881     -0.020891   0.214175      -0.151434   \n",
       "GrLivArea     -0.009640      0.034836     -0.018918   0.240257       0.009113   \n",
       "OverallQual   -0.059119      0.111098     -0.040150   0.308159      -0.113937   \n",
       "TotalBsmtSF    0.104810      0.307351     -0.000315   0.415360      -0.095478   \n",
       "SalePrice     -0.011378      0.227122     -0.016844   0.214479      -0.128578   \n",
       "\n",
       "               ...      SaleType_ConLI  SaleType_ConLw  SaleType_New  \\\n",
       "1stFlrSF       ...            0.006094       -0.043721      0.221219   \n",
       "GarageArea     ...           -0.005535       -0.041904      0.296671   \n",
       "GarageCars     ...            0.002580       -0.044502      0.286290   \n",
       "GrLivArea      ...            0.017268       -0.022348      0.168368   \n",
       "OverallQual    ...            0.004269       -0.021172      0.327412   \n",
       "TotalBsmtSF    ...            0.019271       -0.039543      0.265644   \n",
       "SalePrice      ...            0.014371       -0.027475      0.357509   \n",
       "\n",
       "             SaleType_Oth  SaleType_WD  Street_Grvl  Street_Pave  \\\n",
       "1stFlrSF        -0.008215    -0.198056    -0.005950     0.005950   \n",
       "GarageArea      -0.080601    -0.218665     0.047794    -0.047794   \n",
       "GarageCars      -0.087089    -0.197458     0.020025    -0.020025   \n",
       "GrLivArea       -0.036522    -0.121102    -0.044121     0.044121   \n",
       "OverallQual     -0.057962    -0.225013    -0.058823     0.058823   \n",
       "TotalBsmtSF      0.003646    -0.212851    -0.005068     0.005068   \n",
       "SalePrice       -0.034895    -0.242598    -0.041036     0.041036   \n",
       "\n",
       "             Utilities_AllPub  Utilities_NoSeWa  SalePrice  \n",
       "1stFlrSF            -0.012287          0.012287   0.605852  \n",
       "GarageArea          -0.006372          0.006372   0.623431  \n",
       "GarageCars          -0.008161          0.008161   0.640409  \n",
       "GrLivArea            0.008545         -0.008545   0.708624  \n",
       "OverallQual          0.001881         -0.001881   0.790982  \n",
       "TotalBsmtSF          0.014233         -0.014233   0.613581  \n",
       "SalePrice            0.014314         -0.014314   1.000000  \n",
       "\n",
       "[7 rows x 271 columns]"
      ]
     },
     "execution_count": 256,
     "metadata": {},
     "output_type": "execute_result"
    }
   ],
   "source": [
    "a[a.SalePrice > 0.6]"
   ]
  },
  {
   "cell_type": "code",
   "execution_count": 257,
   "metadata": {
    "collapsed": true
   },
   "outputs": [],
   "source": [
    "b = a[a.SalePrice > 0.6]"
   ]
  },
  {
   "cell_type": "code",
   "execution_count": 258,
   "metadata": {
    "collapsed": false,
    "scrolled": true
   },
   "outputs": [
    {
     "data": {
      "text/html": [
       "<div>\n",
       "<style scoped>\n",
       "    .dataframe tbody tr th:only-of-type {\n",
       "        vertical-align: middle;\n",
       "    }\n",
       "\n",
       "    .dataframe tbody tr th {\n",
       "        vertical-align: top;\n",
       "    }\n",
       "\n",
       "    .dataframe thead th {\n",
       "        text-align: right;\n",
       "    }\n",
       "</style>\n",
       "<table border=\"1\" class=\"dataframe\">\n",
       "  <thead>\n",
       "    <tr style=\"text-align: right;\">\n",
       "      <th></th>\n",
       "      <th>1stFlrSF</th>\n",
       "      <th>2ndFlrSF</th>\n",
       "      <th>3SsnPorch</th>\n",
       "      <th>BedroomAbvGr</th>\n",
       "      <th>BsmtFinSF1</th>\n",
       "      <th>BsmtFinSF2</th>\n",
       "      <th>BsmtFullBath</th>\n",
       "      <th>BsmtHalfBath</th>\n",
       "      <th>BsmtUnfSF</th>\n",
       "      <th>EnclosedPorch</th>\n",
       "      <th>...</th>\n",
       "      <th>SaleType_ConLI</th>\n",
       "      <th>SaleType_ConLw</th>\n",
       "      <th>SaleType_New</th>\n",
       "      <th>SaleType_Oth</th>\n",
       "      <th>SaleType_WD</th>\n",
       "      <th>Street_Grvl</th>\n",
       "      <th>Street_Pave</th>\n",
       "      <th>Utilities_AllPub</th>\n",
       "      <th>Utilities_NoSeWa</th>\n",
       "      <th>SalePrice</th>\n",
       "    </tr>\n",
       "  </thead>\n",
       "  <tbody>\n",
       "    <tr>\n",
       "      <th>1stFlrSF</th>\n",
       "      <td>1.000000</td>\n",
       "      <td>-0.202646</td>\n",
       "      <td>0.056104</td>\n",
       "      <td>0.127401</td>\n",
       "      <td>0.445863</td>\n",
       "      <td>0.097117</td>\n",
       "      <td>0.244671</td>\n",
       "      <td>0.001956</td>\n",
       "      <td>0.317987</td>\n",
       "      <td>-0.065292</td>\n",
       "      <td>...</td>\n",
       "      <td>0.006094</td>\n",
       "      <td>-0.043721</td>\n",
       "      <td>0.221219</td>\n",
       "      <td>-0.008215</td>\n",
       "      <td>-0.198056</td>\n",
       "      <td>-0.005950</td>\n",
       "      <td>0.005950</td>\n",
       "      <td>-0.012287</td>\n",
       "      <td>0.012287</td>\n",
       "      <td>0.605852</td>\n",
       "    </tr>\n",
       "    <tr>\n",
       "      <th>GarageArea</th>\n",
       "      <td>0.489782</td>\n",
       "      <td>0.138347</td>\n",
       "      <td>0.035087</td>\n",
       "      <td>0.065253</td>\n",
       "      <td>0.296970</td>\n",
       "      <td>-0.018227</td>\n",
       "      <td>0.179189</td>\n",
       "      <td>-0.024536</td>\n",
       "      <td>0.183303</td>\n",
       "      <td>-0.121777</td>\n",
       "      <td>...</td>\n",
       "      <td>-0.005535</td>\n",
       "      <td>-0.041904</td>\n",
       "      <td>0.296671</td>\n",
       "      <td>-0.080601</td>\n",
       "      <td>-0.218665</td>\n",
       "      <td>0.047794</td>\n",
       "      <td>-0.047794</td>\n",
       "      <td>-0.006372</td>\n",
       "      <td>0.006372</td>\n",
       "      <td>0.623431</td>\n",
       "    </tr>\n",
       "    <tr>\n",
       "      <th>GarageCars</th>\n",
       "      <td>0.439317</td>\n",
       "      <td>0.183926</td>\n",
       "      <td>0.035765</td>\n",
       "      <td>0.086106</td>\n",
       "      <td>0.224054</td>\n",
       "      <td>-0.038264</td>\n",
       "      <td>0.131881</td>\n",
       "      <td>-0.020891</td>\n",
       "      <td>0.214175</td>\n",
       "      <td>-0.151434</td>\n",
       "      <td>...</td>\n",
       "      <td>0.002580</td>\n",
       "      <td>-0.044502</td>\n",
       "      <td>0.286290</td>\n",
       "      <td>-0.087089</td>\n",
       "      <td>-0.197458</td>\n",
       "      <td>0.020025</td>\n",
       "      <td>-0.020025</td>\n",
       "      <td>-0.008161</td>\n",
       "      <td>0.008161</td>\n",
       "      <td>0.640409</td>\n",
       "    </tr>\n",
       "    <tr>\n",
       "      <th>GrLivArea</th>\n",
       "      <td>0.566024</td>\n",
       "      <td>0.687501</td>\n",
       "      <td>0.020643</td>\n",
       "      <td>0.521270</td>\n",
       "      <td>0.208171</td>\n",
       "      <td>-0.009640</td>\n",
       "      <td>0.034836</td>\n",
       "      <td>-0.018918</td>\n",
       "      <td>0.240257</td>\n",
       "      <td>0.009113</td>\n",
       "      <td>...</td>\n",
       "      <td>0.017268</td>\n",
       "      <td>-0.022348</td>\n",
       "      <td>0.168368</td>\n",
       "      <td>-0.036522</td>\n",
       "      <td>-0.121102</td>\n",
       "      <td>-0.044121</td>\n",
       "      <td>0.044121</td>\n",
       "      <td>0.008545</td>\n",
       "      <td>-0.008545</td>\n",
       "      <td>0.708624</td>\n",
       "    </tr>\n",
       "    <tr>\n",
       "      <th>OverallQual</th>\n",
       "      <td>0.476224</td>\n",
       "      <td>0.295493</td>\n",
       "      <td>0.030371</td>\n",
       "      <td>0.101676</td>\n",
       "      <td>0.239666</td>\n",
       "      <td>-0.059119</td>\n",
       "      <td>0.111098</td>\n",
       "      <td>-0.040150</td>\n",
       "      <td>0.308159</td>\n",
       "      <td>-0.113937</td>\n",
       "      <td>...</td>\n",
       "      <td>0.004269</td>\n",
       "      <td>-0.021172</td>\n",
       "      <td>0.327412</td>\n",
       "      <td>-0.057962</td>\n",
       "      <td>-0.225013</td>\n",
       "      <td>-0.058823</td>\n",
       "      <td>0.058823</td>\n",
       "      <td>0.001881</td>\n",
       "      <td>-0.001881</td>\n",
       "      <td>0.790982</td>\n",
       "    </tr>\n",
       "  </tbody>\n",
       "</table>\n",
       "<p>5 rows × 271 columns</p>\n",
       "</div>"
      ],
      "text/plain": [
       "             1stFlrSF  2ndFlrSF  3SsnPorch  BedroomAbvGr  BsmtFinSF1  \\\n",
       "1stFlrSF     1.000000 -0.202646   0.056104      0.127401    0.445863   \n",
       "GarageArea   0.489782  0.138347   0.035087      0.065253    0.296970   \n",
       "GarageCars   0.439317  0.183926   0.035765      0.086106    0.224054   \n",
       "GrLivArea    0.566024  0.687501   0.020643      0.521270    0.208171   \n",
       "OverallQual  0.476224  0.295493   0.030371      0.101676    0.239666   \n",
       "\n",
       "             BsmtFinSF2  BsmtFullBath  BsmtHalfBath  BsmtUnfSF  EnclosedPorch  \\\n",
       "1stFlrSF       0.097117      0.244671      0.001956   0.317987      -0.065292   \n",
       "GarageArea    -0.018227      0.179189     -0.024536   0.183303      -0.121777   \n",
       "GarageCars    -0.038264      0.131881     -0.020891   0.214175      -0.151434   \n",
       "GrLivArea     -0.009640      0.034836     -0.018918   0.240257       0.009113   \n",
       "OverallQual   -0.059119      0.111098     -0.040150   0.308159      -0.113937   \n",
       "\n",
       "               ...      SaleType_ConLI  SaleType_ConLw  SaleType_New  \\\n",
       "1stFlrSF       ...            0.006094       -0.043721      0.221219   \n",
       "GarageArea     ...           -0.005535       -0.041904      0.296671   \n",
       "GarageCars     ...            0.002580       -0.044502      0.286290   \n",
       "GrLivArea      ...            0.017268       -0.022348      0.168368   \n",
       "OverallQual    ...            0.004269       -0.021172      0.327412   \n",
       "\n",
       "             SaleType_Oth  SaleType_WD  Street_Grvl  Street_Pave  \\\n",
       "1stFlrSF        -0.008215    -0.198056    -0.005950     0.005950   \n",
       "GarageArea      -0.080601    -0.218665     0.047794    -0.047794   \n",
       "GarageCars      -0.087089    -0.197458     0.020025    -0.020025   \n",
       "GrLivArea       -0.036522    -0.121102    -0.044121     0.044121   \n",
       "OverallQual     -0.057962    -0.225013    -0.058823     0.058823   \n",
       "\n",
       "             Utilities_AllPub  Utilities_NoSeWa  SalePrice  \n",
       "1stFlrSF            -0.012287          0.012287   0.605852  \n",
       "GarageArea          -0.006372          0.006372   0.623431  \n",
       "GarageCars          -0.008161          0.008161   0.640409  \n",
       "GrLivArea            0.008545         -0.008545   0.708624  \n",
       "OverallQual          0.001881         -0.001881   0.790982  \n",
       "\n",
       "[5 rows x 271 columns]"
      ]
     },
     "execution_count": 258,
     "metadata": {},
     "output_type": "execute_result"
    }
   ],
   "source": [
    "b.head()"
   ]
  },
  {
   "cell_type": "code",
   "execution_count": 259,
   "metadata": {
    "collapsed": false
   },
   "outputs": [
    {
     "data": {
      "text/html": [
       "<div>\n",
       "<style scoped>\n",
       "    .dataframe tbody tr th:only-of-type {\n",
       "        vertical-align: middle;\n",
       "    }\n",
       "\n",
       "    .dataframe tbody tr th {\n",
       "        vertical-align: top;\n",
       "    }\n",
       "\n",
       "    .dataframe thead th {\n",
       "        text-align: right;\n",
       "    }\n",
       "</style>\n",
       "<table border=\"1\" class=\"dataframe\">\n",
       "  <thead>\n",
       "    <tr style=\"text-align: right;\">\n",
       "      <th></th>\n",
       "      <th>GrLivArea</th>\n",
       "      <th>OverallQual</th>\n",
       "      <th>SalePrice</th>\n",
       "    </tr>\n",
       "  </thead>\n",
       "  <tbody>\n",
       "    <tr>\n",
       "      <th>0</th>\n",
       "      <td>1710.0</td>\n",
       "      <td>7.0</td>\n",
       "      <td>208500</td>\n",
       "    </tr>\n",
       "    <tr>\n",
       "      <th>1</th>\n",
       "      <td>1262.0</td>\n",
       "      <td>6.0</td>\n",
       "      <td>181500</td>\n",
       "    </tr>\n",
       "    <tr>\n",
       "      <th>2</th>\n",
       "      <td>1786.0</td>\n",
       "      <td>7.0</td>\n",
       "      <td>223500</td>\n",
       "    </tr>\n",
       "    <tr>\n",
       "      <th>3</th>\n",
       "      <td>1717.0</td>\n",
       "      <td>7.0</td>\n",
       "      <td>140000</td>\n",
       "    </tr>\n",
       "    <tr>\n",
       "      <th>4</th>\n",
       "      <td>2198.0</td>\n",
       "      <td>8.0</td>\n",
       "      <td>250000</td>\n",
       "    </tr>\n",
       "  </tbody>\n",
       "</table>\n",
       "</div>"
      ],
      "text/plain": [
       "   GrLivArea  OverallQual  SalePrice\n",
       "0     1710.0          7.0     208500\n",
       "1     1262.0          6.0     181500\n",
       "2     1786.0          7.0     223500\n",
       "3     1717.0          7.0     140000\n",
       "4     2198.0          8.0     250000"
      ]
     },
     "execution_count": 259,
     "metadata": {},
     "output_type": "execute_result"
    }
   ],
   "source": [
    "df[['GrLivArea','OverallQual','SalePrice']].head()"
   ]
  },
  {
   "cell_type": "code",
   "execution_count": 260,
   "metadata": {
    "collapsed": true
   },
   "outputs": [],
   "source": [
    "X = df.loc[:, ['GrLivArea', 'OverallQual']].values"
   ]
  },
  {
   "cell_type": "code",
   "execution_count": 261,
   "metadata": {
    "collapsed": false
   },
   "outputs": [
    {
     "data": {
      "text/plain": [
       "array([[ 1710.,     7.],\n",
       "       [ 1262.,     6.],\n",
       "       [ 1786.,     7.],\n",
       "       ..., \n",
       "       [ 2340.,     7.],\n",
       "       [ 1078.,     5.],\n",
       "       [ 1256.,     5.]])"
      ]
     },
     "execution_count": 261,
     "metadata": {},
     "output_type": "execute_result"
    }
   ],
   "source": [
    "X"
   ]
  },
  {
   "cell_type": "code",
   "execution_count": 262,
   "metadata": {
    "collapsed": true
   },
   "outputs": [],
   "source": [
    "y = df.loc[:, ['SalePrice']].values"
   ]
  },
  {
   "cell_type": "code",
   "execution_count": 263,
   "metadata": {
    "collapsed": false
   },
   "outputs": [
    {
     "data": {
      "text/plain": [
       "array([[208500],\n",
       "       [181500],\n",
       "       [223500],\n",
       "       [140000],\n",
       "       [250000]])"
      ]
     },
     "execution_count": 263,
     "metadata": {},
     "output_type": "execute_result"
    }
   ],
   "source": [
    "y[:5]"
   ]
  },
  {
   "cell_type": "code",
   "execution_count": 264,
   "metadata": {
    "collapsed": true
   },
   "outputs": [],
   "source": [
    "from sklearn.model_selection import train_test_split\n",
    "X_train, X_test, y_train, y_test = train_test_split(X, y, test_size = 0.3, random_state = 0)"
   ]
  },
  {
   "cell_type": "code",
   "execution_count": 265,
   "metadata": {
    "collapsed": false
   },
   "outputs": [
    {
     "name": "stdout",
     "output_type": "stream",
     "text": [
      "(1460, 2)\n",
      "(1460, 1)\n"
     ]
    }
   ],
   "source": [
    "print(X.shape)\n",
    "print(y.shape)"
   ]
  },
  {
   "cell_type": "code",
   "execution_count": 266,
   "metadata": {
    "collapsed": false
   },
   "outputs": [
    {
     "name": "stdout",
     "output_type": "stream",
     "text": [
      "(1022, 2)\n",
      "(1022, 1)\n"
     ]
    }
   ],
   "source": [
    "print(X_train.shape)\n",
    "print(y_train.shape)"
   ]
  },
  {
   "cell_type": "code",
   "execution_count": 267,
   "metadata": {
    "collapsed": false
   },
   "outputs": [
    {
     "name": "stdout",
     "output_type": "stream",
     "text": [
      "(438, 2)\n",
      "(438, 1)\n"
     ]
    }
   ],
   "source": [
    "print(X_test.shape)\n",
    "print(y_test.shape)"
   ]
  },
  {
   "cell_type": "code",
   "execution_count": 268,
   "metadata": {
    "collapsed": true
   },
   "outputs": [],
   "source": [
    "from sklearn.linear_model import LinearRegression\n",
    "lr = LinearRegression()"
   ]
  },
  {
   "cell_type": "code",
   "execution_count": 269,
   "metadata": {
    "collapsed": false
   },
   "outputs": [
    {
     "data": {
      "text/plain": [
       "LinearRegression(copy_X=True, fit_intercept=True, n_jobs=1, normalize=False)"
      ]
     },
     "execution_count": 269,
     "metadata": {},
     "output_type": "execute_result"
    }
   ],
   "source": [
    "lr.fit(X_train, y_train)"
   ]
  },
  {
   "cell_type": "code",
   "execution_count": 270,
   "metadata": {
    "collapsed": false
   },
   "outputs": [
    {
     "data": {
      "text/plain": [
       "array([-104362.61223639])"
      ]
     },
     "execution_count": 270,
     "metadata": {},
     "output_type": "execute_result"
    }
   ],
   "source": [
    "lr.intercept_"
   ]
  },
  {
   "cell_type": "code",
   "execution_count": 271,
   "metadata": {
    "collapsed": false
   },
   "outputs": [
    {
     "data": {
      "text/plain": [
       "array([[    61.36857857,  31506.71506056]])"
      ]
     },
     "execution_count": 271,
     "metadata": {},
     "output_type": "execute_result"
    }
   ],
   "source": [
    "lr.coef_"
   ]
  },
  {
   "cell_type": "code",
   "execution_count": 272,
   "metadata": {
    "collapsed": true
   },
   "outputs": [],
   "source": [
    "X_new = np.array([[1262.0,6.0]])"
   ]
  },
  {
   "cell_type": "code",
   "execution_count": 273,
   "metadata": {
    "collapsed": false
   },
   "outputs": [],
   "source": [
    "y_pred = lr.predict(X_new)"
   ]
  },
  {
   "cell_type": "code",
   "execution_count": 274,
   "metadata": {
    "collapsed": false
   },
   "outputs": [
    {
     "data": {
      "text/plain": [
       "array([[ 162124.82427937]])"
      ]
     },
     "execution_count": 274,
     "metadata": {},
     "output_type": "execute_result"
    }
   ],
   "source": [
    "y_pred"
   ]
  },
  {
   "cell_type": "code",
   "execution_count": 275,
   "metadata": {
    "collapsed": false
   },
   "outputs": [
    {
     "name": "stdout",
     "output_type": "stream",
     "text": [
      "y_pred      : 162124.82\n"
     ]
    }
   ],
   "source": [
    "print('y_pred      : %.2f' % y_pred)"
   ]
  },
  {
   "cell_type": "code",
   "execution_count": 276,
   "metadata": {
    "collapsed": false
   },
   "outputs": [
    {
     "name": "stdout",
     "output_type": "stream",
     "text": [
      "R^2\n",
      "train: 0.724\n",
      "test : 0.690\n"
     ]
    }
   ],
   "source": [
    "print('R^2')\n",
    "print('train: %.3f' % lr.score(X_train, y_train))\n",
    "print('test : %.3f' % lr.score(X_test, y_test))"
   ]
  },
  {
   "cell_type": "code",
   "execution_count": 277,
   "metadata": {
    "collapsed": true
   },
   "outputs": [],
   "source": [
    "def adjusted(score, n_sample, n_features):\n",
    "    adjusted_score = 1 - (1 - score) * ((n_sample - 1) / (n_sample - n_features - 1))\n",
    "    return adjusted_score"
   ]
  },
  {
   "cell_type": "code",
   "execution_count": 278,
   "metadata": {
    "collapsed": false
   },
   "outputs": [
    {
     "name": "stdout",
     "output_type": "stream",
     "text": [
      "adjusted R^2\n",
      "train: 0.723737\n",
      "test : 0.688849\n"
     ]
    }
   ],
   "source": [
    "print('adjusted R^2')\n",
    "print('train: %3f' % adjusted(lr.score(X_train, y_train), len(y_train), 2))\n",
    "print('test : %3f' % adjusted(lr.score(X_test, y_test), len(y_test), 2))"
   ]
  },
  {
   "cell_type": "code",
   "execution_count": null,
   "metadata": {
    "collapsed": true
   },
   "outputs": [],
   "source": []
  }
 ],
 "metadata": {
  "anaconda-cloud": {},
  "kernelspec": {
   "display_name": "Python [Root]",
   "language": "python",
   "name": "Python [Root]"
  },
  "language_info": {
   "codemirror_mode": {
    "name": "ipython",
    "version": 3
   },
   "file_extension": ".py",
   "mimetype": "text/x-python",
   "name": "python",
   "nbconvert_exporter": "python",
   "pygments_lexer": "ipython3",
   "version": "3.5.2"
  }
 },
 "nbformat": 4,
 "nbformat_minor": 0
}
